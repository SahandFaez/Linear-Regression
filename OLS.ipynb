{
 "cells": [
  {
   "cell_type": "markdown",
   "id": "57a640cb",
   "metadata": {},
   "source": [
    "# This set of codes are designed to provide a vivid step by step exploration of the linear regression. While there are comprehenseive libraries to conduct such estimations, a step by step method will aid in better understanding of how the procedure works. It also is more easily modified if need be."
   ]
  },
  {
   "cell_type": "code",
   "execution_count": 1,
   "id": "a45ab6cf",
   "metadata": {},
   "outputs": [],
   "source": [
    "# import the necessary libraries.\n",
    "\n",
    "#estimation libraries\n",
    "\n",
    "import pandas as pd\n",
    "import numpy as np\n",
    "import numpy.linalg as linalg\n",
    "import scipy.stats as stats\n",
    "from scipy.stats import shapiro\n",
    "\n",
    "#visualization libraries\n",
    "\n",
    "import matplotlib.pyplot as plt\n",
    "import seaborn as sns\n",
    "import warnings\n"
   ]
  },
  {
   "cell_type": "code",
   "execution_count": 2,
   "id": "128ff4f6",
   "metadata": {},
   "outputs": [],
   "source": [
    "#entering the data\n",
    "Input_DATA=pd.read_csv('SampleData.csv')"
   ]
  },
  {
   "cell_type": "code",
   "execution_count": 3,
   "id": "c87be760",
   "metadata": {},
   "outputs": [
    {
     "name": "stdout",
     "output_type": "stream",
     "text": [
      "<class 'pandas.core.frame.DataFrame'>\n",
      "RangeIndex: 29 entries, 0 to 28\n",
      "Data columns (total 11 columns):\n",
      " #   Column          Non-Null Count  Dtype  \n",
      "---  ------          --------------  -----  \n",
      " 0   year            29 non-null     int64  \n",
      " 1   GDP             29 non-null     float64\n",
      " 2   Capital         29 non-null     float64\n",
      " 3   Labor           29 non-null     float64\n",
      " 4   GDP_Normal      29 non-null     float64\n",
      " 5   Capital_Normal  29 non-null     float64\n",
      " 6   Labor_Normal    29 non-null     float64\n",
      " 7   GDP_G           29 non-null     float64\n",
      " 8   Capital_G       29 non-null     float64\n",
      " 9   Labor_G         29 non-null     float64\n",
      " 10  Intercept       29 non-null     int64  \n",
      "dtypes: float64(9), int64(2)\n",
      "memory usage: 2.6 KB\n"
     ]
    }
   ],
   "source": [
    "#checking the dataset\n",
    "Input_DATA.info()"
   ]
  },
  {
   "cell_type": "code",
   "execution_count": 4,
   "id": "4c240736",
   "metadata": {},
   "outputs": [],
   "source": [
    "for col in Input_DATA.columns:\n",
    "    Input_DATA[col]=Input_DATA[col].astype(float)"
   ]
  },
  {
   "cell_type": "code",
   "execution_count": 5,
   "id": "077bf135",
   "metadata": {},
   "outputs": [],
   "source": [
    "#dividing the data into dependant and independant variables.\n",
    "#dependent variable (Y)\n",
    "Y=Input_DATA['GDP_G'].to_numpy()\n",
    "#independent variables (X)\n",
    "X=Input_DATA[['Capital_G','Labor_G','Intercept']].to_numpy()"
   ]
  },
  {
   "cell_type": "markdown",
   "id": "26a316d4",
   "metadata": {},
   "source": [
    "# After preparing the data it is time for the estimations. First thing to estimate will be the Beta vector which is (X'X)^-1X'Y"
   ]
  },
  {
   "cell_type": "code",
   "execution_count": 6,
   "id": "0e54f1a7",
   "metadata": {},
   "outputs": [
    {
     "data": {
      "text/html": [
       "<div>\n",
       "<style scoped>\n",
       "    .dataframe tbody tr th:only-of-type {\n",
       "        vertical-align: middle;\n",
       "    }\n",
       "\n",
       "    .dataframe tbody tr th {\n",
       "        vertical-align: top;\n",
       "    }\n",
       "\n",
       "    .dataframe thead th {\n",
       "        text-align: right;\n",
       "    }\n",
       "</style>\n",
       "<table border=\"1\" class=\"dataframe\">\n",
       "  <thead>\n",
       "    <tr style=\"text-align: right;\">\n",
       "      <th></th>\n",
       "      <th>coef</th>\n",
       "    </tr>\n",
       "  </thead>\n",
       "  <tbody>\n",
       "    <tr>\n",
       "      <th>Capital_G</th>\n",
       "      <td>0.528379</td>\n",
       "    </tr>\n",
       "    <tr>\n",
       "      <th>Labor_G</th>\n",
       "      <td>-1.817261</td>\n",
       "    </tr>\n",
       "    <tr>\n",
       "      <th>intercept</th>\n",
       "      <td>19.724074</td>\n",
       "    </tr>\n",
       "  </tbody>\n",
       "</table>\n",
       "</div>"
      ],
      "text/plain": [
       "                coef\n",
       "Capital_G   0.528379\n",
       "Labor_G    -1.817261\n",
       "intercept  19.724074"
      ]
     },
     "execution_count": 6,
     "metadata": {},
     "output_type": "execute_result"
    }
   ],
   "source": [
    "#Estimating the coefficients\n",
    "Beta=(np.dot(np.dot(linalg.inv(np.dot(X.T,X)),X.T),Y)).T\n",
    "\n",
    "BETA=pd.DataFrame(Beta,columns=['coef'],index=['Capital_G','Labor_G','intercept'])\n",
    "BETA"
   ]
  },
  {
   "cell_type": "code",
   "execution_count": 7,
   "id": "cc58dd50",
   "metadata": {},
   "outputs": [
    {
     "data": {
      "text/plain": [
       "array([26.12076534, 26.27831511, 26.26146368, 26.11692588, 25.94790146,\n",
       "       26.10618082, 26.26307999, 26.23712509, 26.23332672, 26.24198072,\n",
       "       26.25388925, 26.31608492, 26.39451462, 26.47158502, 26.48929268,\n",
       "       26.46052397, 26.5214198 , 26.62346788, 26.76709144, 26.74316402,\n",
       "       26.82543466, 26.87379333, 26.80914696, 26.75997618, 26.79477688,\n",
       "       26.48398732, 26.58024579, 26.56587969, 26.52026955])"
      ]
     },
     "execution_count": 7,
     "metadata": {},
     "output_type": "execute_result"
    }
   ],
   "source": [
    "Y_HAT=np.dot(X,Beta)\n",
    "Y_HAT"
   ]
  },
  {
   "cell_type": "markdown",
   "id": "2dcd05b0",
   "metadata": {},
   "source": [
    "# After the estimations are done, it is time to check the goodness of the fit. I do so by estimating the statistics usually used for testing the goodness of the fit."
   ]
  },
  {
   "cell_type": "code",
   "execution_count": 8,
   "id": "e834c889",
   "metadata": {},
   "outputs": [],
   "source": [
    "#the difference between the estimation and the actual values.\n",
    "ERROR=Y-Y_HAT\n",
    "Errors=pd.DataFrame(ERROR,columns=['e'])"
   ]
  },
  {
   "cell_type": "code",
   "execution_count": 9,
   "id": "5cbe0a7f",
   "metadata": {},
   "outputs": [],
   "source": [
    "#the difference between the estimates and the actual mean.\n",
    "SE=Y_HAT-np.mean(Y)\n",
    "Se=pd.DataFrame(SE,columns=['se'])"
   ]
  },
  {
   "cell_type": "code",
   "execution_count": 10,
   "id": "7ce655a3",
   "metadata": {},
   "outputs": [],
   "source": [
    "#the difference between actual values and the actual mean.\n",
    "STD=Y-np.mean(Y)\n",
    "StD=pd.DataFrame(STD,columns=['std'])"
   ]
  },
  {
   "cell_type": "code",
   "execution_count": 11,
   "id": "4dbcc732",
   "metadata": {},
   "outputs": [
    {
     "name": "stdout",
     "output_type": "stream",
     "text": [
      " RSS:  0.48 \n",
      " ESS:  1.809 \n",
      " SS:   2.289\n"
     ]
    }
   ],
   "source": [
    "#the models RSS, ESS, and SS\n",
    "RSS=(sum((Errors['e'])**2))\n",
    "ESS=(sum((Se['se'])**2))\n",
    "SS=(sum((StD['std'])**2))\n",
    "print(' RSS: ',round(RSS,3),'\\n','ESS: ',round(ESS,3),'\\n','SS:  ',round(SS,3))"
   ]
  },
  {
   "cell_type": "code",
   "execution_count": 12,
   "id": "c069dcd4",
   "metadata": {},
   "outputs": [
    {
     "name": "stdout",
     "output_type": "stream",
     "text": [
      " R-Squared:  0.79 \n",
      " adjusted R-Squared:  0.77\n"
     ]
    }
   ],
   "source": [
    "#estimating the R-squared or adjusted R-squared\n",
    "R_2=1-RSS/SS\n",
    "R_2_A=1-(((1-R_2)*(len(Y)-1))/(len(Y)-len(X[0])-1))\n",
    "print(' R-Squared: ',round(R_2,2),'\\n','adjusted R-Squared: ',round(R_2_A,2))"
   ]
  },
  {
   "cell_type": "code",
   "execution_count": 13,
   "id": "d8c44b76",
   "metadata": {},
   "outputs": [
    {
     "data": {
      "text/html": [
       "<div>\n",
       "<style scoped>\n",
       "    .dataframe tbody tr th:only-of-type {\n",
       "        vertical-align: middle;\n",
       "    }\n",
       "\n",
       "    .dataframe tbody tr th {\n",
       "        vertical-align: top;\n",
       "    }\n",
       "\n",
       "    .dataframe thead th {\n",
       "        text-align: right;\n",
       "    }\n",
       "</style>\n",
       "<table border=\"1\" class=\"dataframe\">\n",
       "  <thead>\n",
       "    <tr style=\"text-align: right;\">\n",
       "      <th></th>\n",
       "      <th>Capital_G</th>\n",
       "      <th>Labor_G</th>\n",
       "      <th>intercept</th>\n",
       "    </tr>\n",
       "  </thead>\n",
       "  <tbody>\n",
       "    <tr>\n",
       "      <th>Capital_G</th>\n",
       "      <td>0.073752</td>\n",
       "      <td>0.163759</td>\n",
       "      <td>NaN</td>\n",
       "    </tr>\n",
       "    <tr>\n",
       "      <th>Labor_G</th>\n",
       "      <td>0.163759</td>\n",
       "      <td>0.684731</td>\n",
       "      <td>NaN</td>\n",
       "    </tr>\n",
       "    <tr>\n",
       "      <th>intercept</th>\n",
       "      <td>NaN</td>\n",
       "      <td>NaN</td>\n",
       "      <td>3.931857</td>\n",
       "    </tr>\n",
       "  </tbody>\n",
       "</table>\n",
       "</div>"
      ],
      "text/plain": [
       "           Capital_G   Labor_G  intercept\n",
       "Capital_G   0.073752  0.163759        NaN\n",
       "Labor_G     0.163759  0.684731        NaN\n",
       "intercept        NaN       NaN   3.931857"
      ]
     },
     "execution_count": 13,
     "metadata": {},
     "output_type": "execute_result"
    }
   ],
   "source": [
    "#estimating the VC matix\n",
    "sigma_H=RSS/len(Y)\n",
    "V_C_Mat=(linalg.inv(np.dot(X.T,X)))*sigma_H\n",
    "VCE_2=pd.DataFrame(V_C_Mat,columns=['Capital_G','Labor_G','intercept'],index=['Capital_G','Labor_G','intercept'])\n",
    "VCE_1=pd.DataFrame()\n",
    "for col in VCE_2.columns:\n",
    "    VCE_1[col]=(VCE_2[col])**0.5\n",
    "VCE_1"
   ]
  },
  {
   "cell_type": "code",
   "execution_count": 14,
   "id": "72235347",
   "metadata": {},
   "outputs": [
    {
     "data": {
      "text/html": [
       "<div>\n",
       "<style scoped>\n",
       "    .dataframe tbody tr th:only-of-type {\n",
       "        vertical-align: middle;\n",
       "    }\n",
       "\n",
       "    .dataframe tbody tr th {\n",
       "        vertical-align: top;\n",
       "    }\n",
       "\n",
       "    .dataframe thead th {\n",
       "        text-align: right;\n",
       "    }\n",
       "</style>\n",
       "<table border=\"1\" class=\"dataframe\">\n",
       "  <thead>\n",
       "    <tr style=\"text-align: right;\">\n",
       "      <th></th>\n",
       "      <th>Beta</th>\n",
       "      <th>std</th>\n",
       "      <th>t-stat</th>\n",
       "      <th>p-value</th>\n",
       "    </tr>\n",
       "  </thead>\n",
       "  <tbody>\n",
       "    <tr>\n",
       "      <th>Capital_G</th>\n",
       "      <td>0.528</td>\n",
       "      <td>0.272</td>\n",
       "      <td>1.946</td>\n",
       "      <td>0.032</td>\n",
       "    </tr>\n",
       "    <tr>\n",
       "      <th>Labor_G</th>\n",
       "      <td>-1.817</td>\n",
       "      <td>0.827</td>\n",
       "      <td>-2.196</td>\n",
       "      <td>0.019</td>\n",
       "    </tr>\n",
       "    <tr>\n",
       "      <th>intercept</th>\n",
       "      <td>19.724</td>\n",
       "      <td>1.983</td>\n",
       "      <td>9.947</td>\n",
       "      <td>0.000</td>\n",
       "    </tr>\n",
       "  </tbody>\n",
       "</table>\n",
       "</div>"
      ],
      "text/plain": [
       "             Beta    std  t-stat  p-value\n",
       "Capital_G   0.528  0.272   1.946    0.032\n",
       "Labor_G    -1.817  0.827  -2.196    0.019\n",
       "intercept  19.724  1.983   9.947    0.000"
      ]
     },
     "execution_count": 14,
     "metadata": {},
     "output_type": "execute_result"
    }
   ],
   "source": [
    "#the main usful outcomes of the model including the t-stat and the p-value for each coefficient\n",
    "\n",
    "VaR=pd.DataFrame(np.diag(VCE_1),columns=['VaR'],index=['Capital_G','Labor_G','intercept'])\n",
    "\n",
    "VaR['Beta']=BETA['coef']\n",
    "VaR['std']=VaR['VaR']**.5\n",
    "VaR['t-stat']=VaR['Beta']/VaR['std']\n",
    "VaR['p-value']=stats.t.sf(abs(VaR['t-stat']),df=(len(Y)-len(X[0])-1)).round(3)\n",
    "VaR[['Beta','std','t-stat','p-value']].round(3)"
   ]
  },
  {
   "cell_type": "code",
   "execution_count": 15,
   "id": "361bd86c",
   "metadata": {},
   "outputs": [
    {
     "data": {
      "text/plain": [
       "Text(0.5, 1.0, 'actual VS fitted')"
      ]
     },
     "execution_count": 15,
     "metadata": {},
     "output_type": "execute_result"
    },
    {
     "data": {
      "image/png": "[encoded data removed]",
      "text/plain": [
       "<Figure size 640x480 with 1 Axes>"
      ]
     },
     "metadata": {},
     "output_type": "display_data"
    }
   ],
   "source": [
    "#comparing actual and fitted values\n",
    "sns.lineplot([Y,Y_HAT])\n",
    "plt.xlabel('number')\n",
    "plt.ylabel('values')\n",
    "plt.title('actual VS fitted')\n"
   ]
  },
  {
   "cell_type": "code",
   "execution_count": 16,
   "id": "b3c319cb",
   "metadata": {},
   "outputs": [
    {
     "name": "stdout",
     "output_type": "stream",
     "text": [
      " Shapiro Stat:  0.898 \n",
      " P-Value:       0.009\n"
     ]
    },
    {
     "data": {
      "image/png": "[encoded data removed]",
      "text/plain": [
       "<Figure size 640x480 with 1 Axes>"
      ]
     },
     "metadata": {},
     "output_type": "display_data"
    }
   ],
   "source": [
    "#testing for normality of the errors. \n",
    "#H0: the errors are normally distributed\n",
    "sns.histplot(ERROR,kde=True)\n",
    "norm_test=shapiro(ERROR)\n",
    "p_value=norm_test.pvalue\n",
    "norm_stat=norm_test.statistic\n",
    "print(' Shapiro Stat: ',round(norm_stat,3),'\\n','P-Value:      ',round(p_value,3))"
   ]
  },
  {
   "cell_type": "code",
   "execution_count": 17,
   "id": "81e58179",
   "metadata": {},
   "outputs": [
    {
     "name": "stdout",
     "output_type": "stream",
     "text": [
      " F_Stat:  49.051 \n",
      " p_value:  0.0\n"
     ]
    }
   ],
   "source": [
    "#testing the significance of the regression as a whole.\n",
    "#H0: all coefficients are equal to zero.\n",
    "F_Stat=(ESS/(len(X[0])-1))/(RSS/(len(Y)-len(X[0])))\n",
    "p = 2.0*(1.0 - stats.f.cdf(F_Stat, (len(X[0])-1), (len(Y)-len(X[0])-1)))\n",
    "print(' F_Stat: ',round(F_Stat,3),'\\n','p_value: ',round(p,3))"
   ]
  },
  {
   "cell_type": "code",
   "execution_count": null,
   "id": "f80c8985",
   "metadata": {},
   "outputs": [],
   "source": []
  }
 ],
 "metadata": {
  "kernelspec": {
   "display_name": "Python 3 (ipykernel)",
   "language": "python",
   "name": "python3"
  },
  "language_info": {
   "codemirror_mode": {
    "name": "ipython",
    "version": 3
   },
   "file_extension": ".py",
   "mimetype": "text/x-python",
   "name": "python",
   "nbconvert_exporter": "python",
   "pygments_lexer": "ipython3",
   "version": "3.10.9"
  }
 },
 "nbformat": 4,
 "nbformat_minor": 5
}
